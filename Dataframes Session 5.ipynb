{
 "cells": [
  {
   "cell_type": "markdown",
   "id": "a462c8f3-9b77-459d-918c-40ed142374ff",
   "metadata": {},
   "source": [
    "### Dataframesh Session5"
   ]
  },
  {
   "cell_type": "code",
   "execution_count": 11,
   "id": "7c3ca905-4cb2-4564-815c-4311ffcaa9fa",
   "metadata": {},
   "outputs": [],
   "source": [
    "# Ignore non-harmful warnigs\n",
    "from warnings import filterwarnings\n",
    "filterwarnings ('ignore')"
   ]
  },
  {
   "cell_type": "markdown",
   "id": "292942e5-adf2-4170-a323-6cfc8539abff",
   "metadata": {},
   "source": [
    "### Read the cars 93 dataset"
   ]
  },
  {
   "cell_type": "code",
   "execution_count": 18,
   "id": "0a53d248-b621-4ce4-ba19-250a7b90100f",
   "metadata": {},
   "outputs": [
    {
     "data": {
      "text/html": [
       "<div>\n",
       "<style scoped>\n",
       "    .dataframe tbody tr th:only-of-type {\n",
       "        vertical-align: middle;\n",
       "    }\n",
       "\n",
       "    .dataframe tbody tr th {\n",
       "        vertical-align: top;\n",
       "    }\n",
       "\n",
       "    .dataframe thead th {\n",
       "        text-align: right;\n",
       "    }\n",
       "</style>\n",
       "<table border=\"1\" class=\"dataframe\">\n",
       "  <thead>\n",
       "    <tr style=\"text-align: right;\">\n",
       "      <th></th>\n",
       "      <th>id</th>\n",
       "      <th>Manufacturer</th>\n",
       "      <th>Model</th>\n",
       "      <th>Type</th>\n",
       "      <th>Min.Price</th>\n",
       "      <th>Price</th>\n",
       "      <th>Max.Price</th>\n",
       "      <th>MPG.city</th>\n",
       "      <th>MPG.highway</th>\n",
       "      <th>AirBags</th>\n",
       "      <th>...</th>\n",
       "      <th>Passengers</th>\n",
       "      <th>Length</th>\n",
       "      <th>Wheelbase</th>\n",
       "      <th>Width</th>\n",
       "      <th>Turn.circle</th>\n",
       "      <th>Rear.seat.room</th>\n",
       "      <th>Luggage.room</th>\n",
       "      <th>Weight</th>\n",
       "      <th>Origin</th>\n",
       "      <th>Make</th>\n",
       "    </tr>\n",
       "  </thead>\n",
       "  <tbody>\n",
       "    <tr>\n",
       "      <th>0</th>\n",
       "      <td>1</td>\n",
       "      <td>Acura</td>\n",
       "      <td>Integra</td>\n",
       "      <td>Small</td>\n",
       "      <td>12.9</td>\n",
       "      <td>15.9</td>\n",
       "      <td>18.8</td>\n",
       "      <td>25</td>\n",
       "      <td>31</td>\n",
       "      <td>None</td>\n",
       "      <td>...</td>\n",
       "      <td>5</td>\n",
       "      <td>177</td>\n",
       "      <td>102</td>\n",
       "      <td>68</td>\n",
       "      <td>37</td>\n",
       "      <td>26.5</td>\n",
       "      <td>11.0</td>\n",
       "      <td>2705</td>\n",
       "      <td>non-USA</td>\n",
       "      <td>Acura Integra</td>\n",
       "    </tr>\n",
       "    <tr>\n",
       "      <th>1</th>\n",
       "      <td>2</td>\n",
       "      <td>Acura</td>\n",
       "      <td>Legend</td>\n",
       "      <td>Midsize</td>\n",
       "      <td>29.2</td>\n",
       "      <td>33.9</td>\n",
       "      <td>38.7</td>\n",
       "      <td>18</td>\n",
       "      <td>25</td>\n",
       "      <td>Driver &amp; Passenger</td>\n",
       "      <td>...</td>\n",
       "      <td>5</td>\n",
       "      <td>195</td>\n",
       "      <td>115</td>\n",
       "      <td>71</td>\n",
       "      <td>38</td>\n",
       "      <td>30.0</td>\n",
       "      <td>15.0</td>\n",
       "      <td>3560</td>\n",
       "      <td>non-USA</td>\n",
       "      <td>Acura Legend</td>\n",
       "    </tr>\n",
       "    <tr>\n",
       "      <th>2</th>\n",
       "      <td>3</td>\n",
       "      <td>Audi</td>\n",
       "      <td>90</td>\n",
       "      <td>Compact</td>\n",
       "      <td>25.9</td>\n",
       "      <td>29.1</td>\n",
       "      <td>32.3</td>\n",
       "      <td>20</td>\n",
       "      <td>26</td>\n",
       "      <td>Driver only</td>\n",
       "      <td>...</td>\n",
       "      <td>5</td>\n",
       "      <td>180</td>\n",
       "      <td>102</td>\n",
       "      <td>67</td>\n",
       "      <td>37</td>\n",
       "      <td>28.0</td>\n",
       "      <td>14.0</td>\n",
       "      <td>3375</td>\n",
       "      <td>non-USA</td>\n",
       "      <td>Audi 90</td>\n",
       "    </tr>\n",
       "    <tr>\n",
       "      <th>3</th>\n",
       "      <td>4</td>\n",
       "      <td>Audi</td>\n",
       "      <td>100</td>\n",
       "      <td>Midsize</td>\n",
       "      <td>30.8</td>\n",
       "      <td>37.7</td>\n",
       "      <td>44.6</td>\n",
       "      <td>19</td>\n",
       "      <td>26</td>\n",
       "      <td>NaN</td>\n",
       "      <td>...</td>\n",
       "      <td>6</td>\n",
       "      <td>193</td>\n",
       "      <td>106</td>\n",
       "      <td>70</td>\n",
       "      <td>37</td>\n",
       "      <td>31.0</td>\n",
       "      <td>17.0</td>\n",
       "      <td>3405</td>\n",
       "      <td>non-USA</td>\n",
       "      <td>Audi 100</td>\n",
       "    </tr>\n",
       "    <tr>\n",
       "      <th>4</th>\n",
       "      <td>5</td>\n",
       "      <td>BMW</td>\n",
       "      <td>535i</td>\n",
       "      <td>Midsize</td>\n",
       "      <td>23.7</td>\n",
       "      <td>30.0</td>\n",
       "      <td>36.2</td>\n",
       "      <td>22</td>\n",
       "      <td>30</td>\n",
       "      <td>Driver only</td>\n",
       "      <td>...</td>\n",
       "      <td>4</td>\n",
       "      <td>186</td>\n",
       "      <td>109</td>\n",
       "      <td>69</td>\n",
       "      <td>39</td>\n",
       "      <td>27.0</td>\n",
       "      <td>13.0</td>\n",
       "      <td>3640</td>\n",
       "      <td>non-USA</td>\n",
       "      <td>BMW 535i</td>\n",
       "    </tr>\n",
       "  </tbody>\n",
       "</table>\n",
       "<p>5 rows × 28 columns</p>\n",
       "</div>"
      ],
      "text/plain": [
       "   id Manufacturer    Model     Type  Min.Price  Price  Max.Price  MPG.city  \\\n",
       "0   1        Acura  Integra    Small       12.9   15.9       18.8        25   \n",
       "1   2        Acura   Legend  Midsize       29.2   33.9       38.7        18   \n",
       "2   3         Audi       90  Compact       25.9   29.1       32.3        20   \n",
       "3   4         Audi      100  Midsize       30.8   37.7       44.6        19   \n",
       "4   5          BMW     535i  Midsize       23.7   30.0       36.2        22   \n",
       "\n",
       "   MPG.highway             AirBags  ... Passengers Length  Wheelbase  Width  \\\n",
       "0           31                None  ...          5    177        102     68   \n",
       "1           25  Driver & Passenger  ...          5    195        115     71   \n",
       "2           26         Driver only  ...          5    180        102     67   \n",
       "3           26                 NaN  ...          6    193        106     70   \n",
       "4           30         Driver only  ...          4    186        109     69   \n",
       "\n",
       "   Turn.circle  Rear.seat.room Luggage.room  Weight   Origin           Make  \n",
       "0           37            26.5         11.0    2705  non-USA  Acura Integra  \n",
       "1           38            30.0         15.0    3560  non-USA   Acura Legend  \n",
       "2           37            28.0         14.0    3375  non-USA        Audi 90  \n",
       "3           37            31.0         17.0    3405  non-USA       Audi 100  \n",
       "4           39            27.0         13.0    3640  non-USA       BMW 535i  \n",
       "\n",
       "[5 rows x 28 columns]"
      ]
     },
     "execution_count": 18,
     "metadata": {},
     "output_type": "execute_result"
    }
   ],
   "source": [
    "import pandas as pd\n",
    "path1 =  r\"D:\\ETL Hive\\Python ETL\\28th Jul 24 Python\\Cars93.csv\"\n",
    "df = pd.read_csv(path1, na_values =['','NA'], keep_default_na=False)\n",
    "df.head()\n"
   ]
  },
  {
   "cell_type": "code",
   "execution_count": 20,
   "id": "50b65450-de84-4e0b-b100-a19cff7a0c9a",
   "metadata": {},
   "outputs": [
    {
     "data": {
      "text/plain": [
       "(93, 28)"
      ]
     },
     "execution_count": 20,
     "metadata": {},
     "output_type": "execute_result"
    }
   ],
   "source": [
    "df.shape\n"
   ]
  },
  {
   "cell_type": "code",
   "execution_count": 22,
   "id": "2fa3ac67-2122-4e69-9282-39656069eeaa",
   "metadata": {},
   "outputs": [
    {
     "data": {
      "text/plain": [
       "Index(['id', 'Manufacturer', 'Model', 'Type', 'Min.Price', 'Price',\n",
       "       'Max.Price', 'MPG.city', 'MPG.highway', 'AirBags', 'DriveTrain',\n",
       "       'Cylinders', 'EngineSize', 'Horsepower', 'RPM', 'Rev.per.mile',\n",
       "       'Man.trans.avail', 'Fuel.tank.capacity', 'Passengers', 'Length',\n",
       "       'Wheelbase', 'Width', 'Turn.circle', 'Rear.seat.room', 'Luggage.room',\n",
       "       'Weight', 'Origin', 'Make'],\n",
       "      dtype='object')"
      ]
     },
     "execution_count": 22,
     "metadata": {},
     "output_type": "execute_result"
    }
   ],
   "source": [
    "df.columns"
   ]
  },
  {
   "cell_type": "code",
   "execution_count": 24,
   "id": "feee5f9a-0d11-4a9c-868a-86a0afd90a58",
   "metadata": {},
   "outputs": [
    {
     "data": {
      "text/plain": [
       "RangeIndex(start=0, stop=93, step=1)"
      ]
     },
     "execution_count": 24,
     "metadata": {},
     "output_type": "execute_result"
    }
   ],
   "source": [
    "df.index"
   ]
  },
  {
   "cell_type": "code",
   "execution_count": 30,
   "id": "71e50e84-a174-4c47-aede-0b84bc429103",
   "metadata": {},
   "outputs": [
    {
     "data": {
      "text/plain": [
       "id                      int64\n",
       "Manufacturer           object\n",
       "Model                  object\n",
       "Type                   object\n",
       "Min.Price             float64\n",
       "Price                 float64\n",
       "Max.Price             float64\n",
       "MPG.city                int64\n",
       "MPG.highway             int64\n",
       "AirBags                object\n",
       "DriveTrain             object\n",
       "Cylinders              object\n",
       "EngineSize            float64\n",
       "Horsepower              int64\n",
       "RPM                     int64\n",
       "Rev.per.mile            int64\n",
       "Man.trans.avail        object\n",
       "Fuel.tank.capacity    float64\n",
       "Passengers              int64\n",
       "Length                  int64\n",
       "Wheelbase               int64\n",
       "Width                   int64\n",
       "Turn.circle             int64\n",
       "Rear.seat.room        float64\n",
       "Luggage.room          float64\n",
       "Weight                  int64\n",
       "Origin                 object\n",
       "Make                   object\n",
       "dtype: object"
      ]
     },
     "execution_count": 30,
     "metadata": {},
     "output_type": "execute_result"
    }
   ],
   "source": [
    "df.dtypes\n"
   ]
  },
  {
   "cell_type": "code",
   "execution_count": 32,
   "id": "82c992f6-5b60-4947-bf83-87f1027b64af",
   "metadata": {},
   "outputs": [
    {
     "name": "stdout",
     "output_type": "stream",
     "text": [
      "<class 'pandas.core.frame.DataFrame'>\n",
      "RangeIndex: 93 entries, 0 to 92\n",
      "Data columns (total 28 columns):\n",
      " #   Column              Non-Null Count  Dtype  \n",
      "---  ------              --------------  -----  \n",
      " 0   id                  93 non-null     int64  \n",
      " 1   Manufacturer        93 non-null     object \n",
      " 2   Model               93 non-null     object \n",
      " 3   Type                93 non-null     object \n",
      " 4   Min.Price           93 non-null     float64\n",
      " 5   Price               93 non-null     float64\n",
      " 6   Max.Price           93 non-null     float64\n",
      " 7   MPG.city            93 non-null     int64  \n",
      " 8   MPG.highway         93 non-null     int64  \n",
      " 9   AirBags             89 non-null     object \n",
      " 10  DriveTrain          93 non-null     object \n",
      " 11  Cylinders           93 non-null     object \n",
      " 12  EngineSize          93 non-null     float64\n",
      " 13  Horsepower          93 non-null     int64  \n",
      " 14  RPM                 93 non-null     int64  \n",
      " 15  Rev.per.mile        93 non-null     int64  \n",
      " 16  Man.trans.avail     93 non-null     object \n",
      " 17  Fuel.tank.capacity  93 non-null     float64\n",
      " 18  Passengers          93 non-null     int64  \n",
      " 19  Length              93 non-null     int64  \n",
      " 20  Wheelbase           93 non-null     int64  \n",
      " 21  Width               93 non-null     int64  \n",
      " 22  Turn.circle         93 non-null     int64  \n",
      " 23  Rear.seat.room      91 non-null     float64\n",
      " 24  Luggage.room        82 non-null     float64\n",
      " 25  Weight              93 non-null     int64  \n",
      " 26  Origin              93 non-null     object \n",
      " 27  Make                93 non-null     object \n",
      "dtypes: float64(7), int64(12), object(9)\n",
      "memory usage: 20.5+ KB\n"
     ]
    }
   ],
   "source": [
    "df.info()"
   ]
  },
  {
   "cell_type": "code",
   "execution_count": 34,
   "id": "fe28f5aa-ebfa-4e57-bd0f-a0724c03f0b8",
   "metadata": {},
   "outputs": [
    {
     "data": {
      "text/plain": [
       "id                    93\n",
       "Manufacturer          32\n",
       "Model                 93\n",
       "Type                   6\n",
       "Min.Price             79\n",
       "Price                 81\n",
       "Max.Price             79\n",
       "MPG.city              21\n",
       "MPG.highway           22\n",
       "AirBags                3\n",
       "DriveTrain             3\n",
       "Cylinders              6\n",
       "EngineSize            26\n",
       "Horsepower            57\n",
       "RPM                   24\n",
       "Rev.per.mile          78\n",
       "Man.trans.avail        2\n",
       "Fuel.tank.capacity    38\n",
       "Passengers             6\n",
       "Length                51\n",
       "Wheelbase             27\n",
       "Width                 16\n",
       "Turn.circle           14\n",
       "Rear.seat.room        24\n",
       "Luggage.room          16\n",
       "Weight                81\n",
       "Origin                 2\n",
       "Make                  93\n",
       "dtype: int64"
      ]
     },
     "execution_count": 34,
     "metadata": {},
     "output_type": "execute_result"
    }
   ],
   "source": [
    "df.nunique()"
   ]
  },
  {
   "cell_type": "code",
   "execution_count": 38,
   "id": "1fc87549-ab8a-443c-9300-ec686e30a133",
   "metadata": {},
   "outputs": [
    {
     "data": {
      "text/plain": [
       "array(['Small', 'Midsize', 'Compact', 'Large', 'Sporty', 'Van'],\n",
       "      dtype=object)"
      ]
     },
     "execution_count": 38,
     "metadata": {},
     "output_type": "execute_result"
    }
   ],
   "source": [
    "df['Type'].unique()"
   ]
  },
  {
   "cell_type": "code",
   "execution_count": 40,
   "id": "d5de44cd-a620-4f6b-a920-83dcdc104cf8",
   "metadata": {},
   "outputs": [
    {
     "data": {
      "text/plain": [
       "Type\n",
       "Midsize    22\n",
       "Small      21\n",
       "Compact    16\n",
       "Sporty     14\n",
       "Large      11\n",
       "Van         9\n",
       "Name: count, dtype: int64"
      ]
     },
     "execution_count": 40,
     "metadata": {},
     "output_type": "execute_result"
    }
   ],
   "source": [
    "df['Type'].value_counts()"
   ]
  },
  {
   "cell_type": "markdown",
   "id": "8bea89d9-0b6b-4ab9-a363-9d1468b156de",
   "metadata": {},
   "source": [
    "### Missing Values"
   ]
  },
  {
   "cell_type": "code",
   "execution_count": 43,
   "id": "8643cd78-0154-48d5-8e49-be456258c188",
   "metadata": {},
   "outputs": [
    {
     "data": {
      "text/plain": [
       "id                     0\n",
       "Manufacturer           0\n",
       "Model                  0\n",
       "Type                   0\n",
       "Min.Price              0\n",
       "Price                  0\n",
       "Max.Price              0\n",
       "MPG.city               0\n",
       "MPG.highway            0\n",
       "AirBags                4\n",
       "DriveTrain             0\n",
       "Cylinders              0\n",
       "EngineSize             0\n",
       "Horsepower             0\n",
       "RPM                    0\n",
       "Rev.per.mile           0\n",
       "Man.trans.avail        0\n",
       "Fuel.tank.capacity     0\n",
       "Passengers             0\n",
       "Length                 0\n",
       "Wheelbase              0\n",
       "Width                  0\n",
       "Turn.circle            0\n",
       "Rear.seat.room         2\n",
       "Luggage.room          11\n",
       "Weight                 0\n",
       "Origin                 0\n",
       "Make                   0\n",
       "dtype: int64"
      ]
     },
     "execution_count": 43,
     "metadata": {},
     "output_type": "execute_result"
    }
   ],
   "source": [
    "m =  df.isna().sum()\n",
    "m"
   ]
  },
  {
   "cell_type": "code",
   "execution_count": 45,
   "id": "f9dd84af-d549-4125-9088-246aef40461a",
   "metadata": {},
   "outputs": [
    {
     "data": {
      "text/plain": [
       "AirBags            4\n",
       "Rear.seat.room     2\n",
       "Luggage.room      11\n",
       "dtype: int64"
      ]
     },
     "execution_count": 45,
     "metadata": {},
     "output_type": "execute_result"
    }
   ],
   "source": [
    "m[m>0]"
   ]
  },
  {
   "cell_type": "markdown",
   "id": "dcbe1c7f-f594-4e01-9441-b8b4a93d3625",
   "metadata": {},
   "source": [
    "### Check Duplicates"
   ]
  },
  {
   "cell_type": "code",
   "execution_count": 48,
   "id": "d96548d9-7cdb-47b3-84e3-051ba6d5d455",
   "metadata": {},
   "outputs": [
    {
     "data": {
      "text/plain": [
       "0"
      ]
     },
     "execution_count": 48,
     "metadata": {},
     "output_type": "execute_result"
    }
   ],
   "source": [
    "df.duplicated().sum()"
   ]
  },
  {
   "cell_type": "markdown",
   "id": "08a589e6-1bd8-4b3a-89e1-7846fa89c14c",
   "metadata": {},
   "source": [
    "### Remove Duplicates"
   ]
  },
  {
   "cell_type": "code",
   "execution_count": 51,
   "id": "b746d71d-d7d1-40e3-a649-8bb976303ebf",
   "metadata": {},
   "outputs": [],
   "source": [
    "df=df.drop_duplicates(keep='first')"
   ]
  },
  {
   "cell_type": "markdown",
   "id": "17b9f22b-d71a-4272-8ec4-a42b559570d2",
   "metadata": {},
   "source": [
    "### Replacing missing values\n",
    "1. Numerical - mean, median\n",
    "2. Categorical (columns which contain text ) - mode ( Most frequently occuring Values)\n",
    "\n",
    "df['Read,seat,room'].mean()"
   ]
  },
  {
   "cell_type": "code",
   "execution_count": 54,
   "id": "660ffd22-495b-4d13-8181-e7f52d04af7e",
   "metadata": {},
   "outputs": [
    {
     "data": {
      "text/plain": [
       "27.5"
      ]
     },
     "execution_count": 54,
     "metadata": {},
     "output_type": "execute_result"
    }
   ],
   "source": [
    "df['Rear.seat.room'].median()"
   ]
  },
  {
   "cell_type": "code",
   "execution_count": 56,
   "id": "8c32522b-a5cf-49f1-91ce-51015d59a0b2",
   "metadata": {},
   "outputs": [
    {
     "data": {
      "text/plain": [
       "13.890243902439025"
      ]
     },
     "execution_count": 56,
     "metadata": {},
     "output_type": "execute_result"
    }
   ],
   "source": [
    "df['Luggage.room'].mean()"
   ]
  },
  {
   "cell_type": "code",
   "execution_count": 58,
   "id": "d97ccb37-3efe-4014-bbac-a102f977e254",
   "metadata": {},
   "outputs": [
    {
     "data": {
      "text/plain": [
       "14.0"
      ]
     },
     "execution_count": 58,
     "metadata": {},
     "output_type": "execute_result"
    }
   ],
   "source": [
    "df['Luggage.room'].median()"
   ]
  },
  {
   "cell_type": "code",
   "execution_count": 64,
   "id": "1a783f1a-12da-494a-856d-cd393fb8d71b",
   "metadata": {},
   "outputs": [
    {
     "data": {
      "text/plain": [
       "AirBags\n",
       "Driver only           42\n",
       "None                  33\n",
       "Driver & Passenger    14\n",
       "Name: count, dtype: int64"
      ]
     },
     "execution_count": 64,
     "metadata": {},
     "output_type": "execute_result"
    }
   ],
   "source": [
    "df['AirBags'].value_counts()"
   ]
  },
  {
   "cell_type": "code",
   "execution_count": 66,
   "id": "c77d7e7c-d478-4729-8f30-54a40ce0f315",
   "metadata": {},
   "outputs": [
    {
     "data": {
      "text/plain": [
       "Index(['Driver only', 'None', 'Driver & Passenger'], dtype='object', name='AirBags')"
      ]
     },
     "execution_count": 66,
     "metadata": {},
     "output_type": "execute_result"
    }
   ],
   "source": [
    "df['AirBags'].value_counts().index\n"
   ]
  },
  {
   "cell_type": "code",
   "execution_count": 68,
   "id": "5acd6be3-86d5-411e-9142-6c78fada0fa2",
   "metadata": {},
   "outputs": [
    {
     "data": {
      "text/plain": [
       "'Driver only'"
      ]
     },
     "execution_count": 68,
     "metadata": {},
     "output_type": "execute_result"
    }
   ],
   "source": [
    "df['AirBags'].mode()[0]"
   ]
  },
  {
   "cell_type": "code",
   "execution_count": 70,
   "id": "fcaa51b3-bed3-4609-8b97-f4e734cf9c06",
   "metadata": {},
   "outputs": [
    {
     "data": {
      "text/plain": [
       "AirBags            4\n",
       "Rear.seat.room     2\n",
       "Luggage.room      11\n",
       "dtype: int64"
      ]
     },
     "execution_count": 70,
     "metadata": {},
     "output_type": "execute_result"
    }
   ],
   "source": [
    "m[m>0]"
   ]
  },
  {
   "cell_type": "markdown",
   "id": "2144d97f-9954-464f-bf69-3166fcd569d5",
   "metadata": {},
   "source": [
    "### Function to replace missing values - fillna"
   ]
  },
  {
   "cell_type": "code",
   "execution_count": 73,
   "id": "575bf597-b21c-46fd-9298-5dc51027c794",
   "metadata": {},
   "outputs": [
    {
     "data": {
      "text/plain": [
       "27.82967032967033"
      ]
     },
     "execution_count": 73,
     "metadata": {},
     "output_type": "execute_result"
    }
   ],
   "source": [
    "mn = df['Rear.seat.room'].mean()\n",
    "mn"
   ]
  },
  {
   "cell_type": "code",
   "execution_count": 75,
   "id": "c4b7361e-dbec-4e0f-9e25-d6737229178c",
   "metadata": {},
   "outputs": [],
   "source": [
    "df['Rear.seat.room'] = df['Rear.seat.room'].fillna(mn)"
   ]
  },
  {
   "cell_type": "code",
   "execution_count": 77,
   "id": "4d918799-a75c-4b5c-a4aa-e6106006491b",
   "metadata": {},
   "outputs": [
    {
     "data": {
      "text/plain": [
       "id                     0\n",
       "Manufacturer           0\n",
       "Model                  0\n",
       "Type                   0\n",
       "Min.Price              0\n",
       "Price                  0\n",
       "Max.Price              0\n",
       "MPG.city               0\n",
       "MPG.highway            0\n",
       "AirBags                4\n",
       "DriveTrain             0\n",
       "Cylinders              0\n",
       "EngineSize             0\n",
       "Horsepower             0\n",
       "RPM                    0\n",
       "Rev.per.mile           0\n",
       "Man.trans.avail        0\n",
       "Fuel.tank.capacity     0\n",
       "Passengers             0\n",
       "Length                 0\n",
       "Wheelbase              0\n",
       "Width                  0\n",
       "Turn.circle            0\n",
       "Rear.seat.room         0\n",
       "Luggage.room          11\n",
       "Weight                 0\n",
       "Origin                 0\n",
       "Make                   0\n",
       "dtype: int64"
      ]
     },
     "execution_count": 77,
     "metadata": {},
     "output_type": "execute_result"
    }
   ],
   "source": [
    "df.isna().sum()"
   ]
  },
  {
   "cell_type": "markdown",
   "id": "c6682d23-8900-4e40-8947-895e9349f330",
   "metadata": {},
   "source": [
    "### Create a function to replace missing values"
   ]
  },
  {
   "cell_type": "code",
   "execution_count": 80,
   "id": "20c80133-b9c5-49f3-bcc0-6beb1034d677",
   "metadata": {},
   "outputs": [
    {
     "data": {
      "text/plain": [
       "Index(['id', 'Manufacturer', 'Model', 'Type', 'Min.Price', 'Price',\n",
       "       'Max.Price', 'MPG.city', 'MPG.highway', 'AirBags', 'DriveTrain',\n",
       "       'Cylinders', 'EngineSize', 'Horsepower', 'RPM', 'Rev.per.mile',\n",
       "       'Man.trans.avail', 'Fuel.tank.capacity', 'Passengers', 'Length',\n",
       "       'Wheelbase', 'Width', 'Turn.circle', 'Rear.seat.room', 'Luggage.room',\n",
       "       'Weight', 'Origin', 'Make'],\n",
       "      dtype='object')"
      ]
     },
     "execution_count": 80,
     "metadata": {},
     "output_type": "execute_result"
    }
   ],
   "source": [
    "df.columns"
   ]
  },
  {
   "cell_type": "code",
   "execution_count": 82,
   "id": "7ba2d106-d14d-49ed-8f4f-0d497e917071",
   "metadata": {},
   "outputs": [
    {
     "data": {
      "text/plain": [
       "id                      int64\n",
       "Manufacturer           object\n",
       "Model                  object\n",
       "Type                   object\n",
       "Min.Price             float64\n",
       "Price                 float64\n",
       "Max.Price             float64\n",
       "MPG.city                int64\n",
       "MPG.highway             int64\n",
       "AirBags                object\n",
       "DriveTrain             object\n",
       "Cylinders              object\n",
       "EngineSize            float64\n",
       "Horsepower              int64\n",
       "RPM                     int64\n",
       "Rev.per.mile            int64\n",
       "Man.trans.avail        object\n",
       "Fuel.tank.capacity    float64\n",
       "Passengers              int64\n",
       "Length                  int64\n",
       "Wheelbase               int64\n",
       "Width                   int64\n",
       "Turn.circle             int64\n",
       "Rear.seat.room        float64\n",
       "Luggage.room          float64\n",
       "Weight                  int64\n",
       "Origin                 object\n",
       "Make                   object\n",
       "dtype: object"
      ]
     },
     "execution_count": 82,
     "metadata": {},
     "output_type": "execute_result"
    }
   ],
   "source": [
    "df.dtypes"
   ]
  },
  {
   "cell_type": "code",
   "execution_count": 99,
   "id": "a76bacdf-606a-40d1-93ce-9c7b49f78094",
   "metadata": {},
   "outputs": [
    {
     "data": {
      "text/html": [
       "<div>\n",
       "<style scoped>\n",
       "    .dataframe tbody tr th:only-of-type {\n",
       "        vertical-align: middle;\n",
       "    }\n",
       "\n",
       "    .dataframe tbody tr th {\n",
       "        vertical-align: top;\n",
       "    }\n",
       "\n",
       "    .dataframe thead th {\n",
       "        text-align: right;\n",
       "    }\n",
       "</style>\n",
       "<table border=\"1\" class=\"dataframe\">\n",
       "  <thead>\n",
       "    <tr style=\"text-align: right;\">\n",
       "      <th></th>\n",
       "      <th>id</th>\n",
       "      <th>Manufacturer</th>\n",
       "      <th>Model</th>\n",
       "      <th>Type</th>\n",
       "      <th>Min.Price</th>\n",
       "      <th>Price</th>\n",
       "      <th>Max.Price</th>\n",
       "      <th>MPG.city</th>\n",
       "      <th>MPG.highway</th>\n",
       "      <th>AirBags</th>\n",
       "      <th>...</th>\n",
       "      <th>Passengers</th>\n",
       "      <th>Length</th>\n",
       "      <th>Wheelbase</th>\n",
       "      <th>Width</th>\n",
       "      <th>Turn.circle</th>\n",
       "      <th>Rear.seat.room</th>\n",
       "      <th>Luggage.room</th>\n",
       "      <th>Weight</th>\n",
       "      <th>Origin</th>\n",
       "      <th>Make</th>\n",
       "    </tr>\n",
       "  </thead>\n",
       "  <tbody>\n",
       "    <tr>\n",
       "      <th>0</th>\n",
       "      <td>1</td>\n",
       "      <td>Acura</td>\n",
       "      <td>Integra</td>\n",
       "      <td>Small</td>\n",
       "      <td>12.9</td>\n",
       "      <td>15.9</td>\n",
       "      <td>18.8</td>\n",
       "      <td>25</td>\n",
       "      <td>31</td>\n",
       "      <td>None</td>\n",
       "      <td>...</td>\n",
       "      <td>5</td>\n",
       "      <td>177</td>\n",
       "      <td>102</td>\n",
       "      <td>68</td>\n",
       "      <td>37</td>\n",
       "      <td>26.5</td>\n",
       "      <td>11.0</td>\n",
       "      <td>2705</td>\n",
       "      <td>non-USA</td>\n",
       "      <td>Acura Integra</td>\n",
       "    </tr>\n",
       "    <tr>\n",
       "      <th>22</th>\n",
       "      <td>23</td>\n",
       "      <td>Dodge</td>\n",
       "      <td>Colt</td>\n",
       "      <td>Small</td>\n",
       "      <td>7.9</td>\n",
       "      <td>9.2</td>\n",
       "      <td>10.6</td>\n",
       "      <td>29</td>\n",
       "      <td>33</td>\n",
       "      <td>None</td>\n",
       "      <td>...</td>\n",
       "      <td>5</td>\n",
       "      <td>174</td>\n",
       "      <td>98</td>\n",
       "      <td>66</td>\n",
       "      <td>32</td>\n",
       "      <td>26.5</td>\n",
       "      <td>11.0</td>\n",
       "      <td>2270</td>\n",
       "      <td>USA</td>\n",
       "      <td>Dodge Colt</td>\n",
       "    </tr>\n",
       "    <tr>\n",
       "      <th>23</th>\n",
       "      <td>24</td>\n",
       "      <td>Dodge</td>\n",
       "      <td>Shadow</td>\n",
       "      <td>Small</td>\n",
       "      <td>8.4</td>\n",
       "      <td>11.3</td>\n",
       "      <td>14.2</td>\n",
       "      <td>23</td>\n",
       "      <td>29</td>\n",
       "      <td>Driver only</td>\n",
       "      <td>...</td>\n",
       "      <td>5</td>\n",
       "      <td>172</td>\n",
       "      <td>97</td>\n",
       "      <td>67</td>\n",
       "      <td>38</td>\n",
       "      <td>26.5</td>\n",
       "      <td>13.0</td>\n",
       "      <td>2670</td>\n",
       "      <td>USA</td>\n",
       "      <td>Dodge Shadow</td>\n",
       "    </tr>\n",
       "    <tr>\n",
       "      <th>28</th>\n",
       "      <td>29</td>\n",
       "      <td>Eagle</td>\n",
       "      <td>Summit</td>\n",
       "      <td>Small</td>\n",
       "      <td>7.9</td>\n",
       "      <td>12.2</td>\n",
       "      <td>16.5</td>\n",
       "      <td>29</td>\n",
       "      <td>33</td>\n",
       "      <td>None</td>\n",
       "      <td>...</td>\n",
       "      <td>5</td>\n",
       "      <td>174</td>\n",
       "      <td>98</td>\n",
       "      <td>66</td>\n",
       "      <td>36</td>\n",
       "      <td>26.5</td>\n",
       "      <td>11.0</td>\n",
       "      <td>2295</td>\n",
       "      <td>USA</td>\n",
       "      <td>Eagle Summit</td>\n",
       "    </tr>\n",
       "    <tr>\n",
       "      <th>30</th>\n",
       "      <td>31</td>\n",
       "      <td>Ford</td>\n",
       "      <td>Festiva</td>\n",
       "      <td>Small</td>\n",
       "      <td>6.9</td>\n",
       "      <td>7.4</td>\n",
       "      <td>7.9</td>\n",
       "      <td>31</td>\n",
       "      <td>33</td>\n",
       "      <td>None</td>\n",
       "      <td>...</td>\n",
       "      <td>4</td>\n",
       "      <td>141</td>\n",
       "      <td>90</td>\n",
       "      <td>63</td>\n",
       "      <td>33</td>\n",
       "      <td>26.0</td>\n",
       "      <td>12.0</td>\n",
       "      <td>1845</td>\n",
       "      <td>USA</td>\n",
       "      <td>Ford Festiva</td>\n",
       "    </tr>\n",
       "    <tr>\n",
       "      <th>31</th>\n",
       "      <td>32</td>\n",
       "      <td>Ford</td>\n",
       "      <td>Escort</td>\n",
       "      <td>Small</td>\n",
       "      <td>8.4</td>\n",
       "      <td>10.1</td>\n",
       "      <td>11.9</td>\n",
       "      <td>23</td>\n",
       "      <td>30</td>\n",
       "      <td>None</td>\n",
       "      <td>...</td>\n",
       "      <td>5</td>\n",
       "      <td>171</td>\n",
       "      <td>98</td>\n",
       "      <td>67</td>\n",
       "      <td>36</td>\n",
       "      <td>28.0</td>\n",
       "      <td>12.0</td>\n",
       "      <td>2530</td>\n",
       "      <td>USA</td>\n",
       "      <td>Ford Escort</td>\n",
       "    </tr>\n",
       "    <tr>\n",
       "      <th>38</th>\n",
       "      <td>39</td>\n",
       "      <td>Geo</td>\n",
       "      <td>Metro</td>\n",
       "      <td>Small</td>\n",
       "      <td>6.7</td>\n",
       "      <td>8.4</td>\n",
       "      <td>10.0</td>\n",
       "      <td>46</td>\n",
       "      <td>50</td>\n",
       "      <td>None</td>\n",
       "      <td>...</td>\n",
       "      <td>4</td>\n",
       "      <td>151</td>\n",
       "      <td>93</td>\n",
       "      <td>63</td>\n",
       "      <td>34</td>\n",
       "      <td>27.5</td>\n",
       "      <td>10.0</td>\n",
       "      <td>1695</td>\n",
       "      <td>non-USA</td>\n",
       "      <td>Geo Metro</td>\n",
       "    </tr>\n",
       "    <tr>\n",
       "      <th>41</th>\n",
       "      <td>42</td>\n",
       "      <td>Honda</td>\n",
       "      <td>Civic</td>\n",
       "      <td>Small</td>\n",
       "      <td>8.4</td>\n",
       "      <td>12.1</td>\n",
       "      <td>15.8</td>\n",
       "      <td>42</td>\n",
       "      <td>46</td>\n",
       "      <td>Driver only</td>\n",
       "      <td>...</td>\n",
       "      <td>4</td>\n",
       "      <td>173</td>\n",
       "      <td>103</td>\n",
       "      <td>67</td>\n",
       "      <td>36</td>\n",
       "      <td>28.0</td>\n",
       "      <td>12.0</td>\n",
       "      <td>2350</td>\n",
       "      <td>non-USA</td>\n",
       "      <td>Honda Civic</td>\n",
       "    </tr>\n",
       "    <tr>\n",
       "      <th>43</th>\n",
       "      <td>44</td>\n",
       "      <td>Hyundai</td>\n",
       "      <td>Excel</td>\n",
       "      <td>Small</td>\n",
       "      <td>6.8</td>\n",
       "      <td>8.0</td>\n",
       "      <td>9.2</td>\n",
       "      <td>29</td>\n",
       "      <td>33</td>\n",
       "      <td>None</td>\n",
       "      <td>...</td>\n",
       "      <td>5</td>\n",
       "      <td>168</td>\n",
       "      <td>94</td>\n",
       "      <td>63</td>\n",
       "      <td>35</td>\n",
       "      <td>26.0</td>\n",
       "      <td>11.0</td>\n",
       "      <td>2345</td>\n",
       "      <td>non-USA</td>\n",
       "      <td>Hyundai Excel</td>\n",
       "    </tr>\n",
       "    <tr>\n",
       "      <th>44</th>\n",
       "      <td>45</td>\n",
       "      <td>Hyundai</td>\n",
       "      <td>Elantra</td>\n",
       "      <td>Small</td>\n",
       "      <td>9.0</td>\n",
       "      <td>10.0</td>\n",
       "      <td>11.0</td>\n",
       "      <td>22</td>\n",
       "      <td>29</td>\n",
       "      <td>None</td>\n",
       "      <td>...</td>\n",
       "      <td>5</td>\n",
       "      <td>172</td>\n",
       "      <td>98</td>\n",
       "      <td>66</td>\n",
       "      <td>36</td>\n",
       "      <td>28.0</td>\n",
       "      <td>12.0</td>\n",
       "      <td>2620</td>\n",
       "      <td>non-USA</td>\n",
       "      <td>Hyundai Elantra</td>\n",
       "    </tr>\n",
       "    <tr>\n",
       "      <th>52</th>\n",
       "      <td>53</td>\n",
       "      <td>Mazda</td>\n",
       "      <td>323</td>\n",
       "      <td>Small</td>\n",
       "      <td>7.4</td>\n",
       "      <td>8.3</td>\n",
       "      <td>9.1</td>\n",
       "      <td>29</td>\n",
       "      <td>37</td>\n",
       "      <td>None</td>\n",
       "      <td>...</td>\n",
       "      <td>4</td>\n",
       "      <td>164</td>\n",
       "      <td>97</td>\n",
       "      <td>66</td>\n",
       "      <td>34</td>\n",
       "      <td>27.0</td>\n",
       "      <td>16.0</td>\n",
       "      <td>2325</td>\n",
       "      <td>non-USA</td>\n",
       "      <td>Mazda 323</td>\n",
       "    </tr>\n",
       "    <tr>\n",
       "      <th>53</th>\n",
       "      <td>54</td>\n",
       "      <td>Mazda</td>\n",
       "      <td>Protege</td>\n",
       "      <td>Small</td>\n",
       "      <td>10.9</td>\n",
       "      <td>11.6</td>\n",
       "      <td>12.3</td>\n",
       "      <td>28</td>\n",
       "      <td>36</td>\n",
       "      <td>None</td>\n",
       "      <td>...</td>\n",
       "      <td>5</td>\n",
       "      <td>172</td>\n",
       "      <td>98</td>\n",
       "      <td>66</td>\n",
       "      <td>36</td>\n",
       "      <td>26.5</td>\n",
       "      <td>13.0</td>\n",
       "      <td>2440</td>\n",
       "      <td>non-USA</td>\n",
       "      <td>Mazda Protege</td>\n",
       "    </tr>\n",
       "    <tr>\n",
       "      <th>61</th>\n",
       "      <td>62</td>\n",
       "      <td>Mitsubishi</td>\n",
       "      <td>Mirage</td>\n",
       "      <td>Small</td>\n",
       "      <td>7.7</td>\n",
       "      <td>10.3</td>\n",
       "      <td>12.9</td>\n",
       "      <td>29</td>\n",
       "      <td>33</td>\n",
       "      <td>None</td>\n",
       "      <td>...</td>\n",
       "      <td>5</td>\n",
       "      <td>172</td>\n",
       "      <td>98</td>\n",
       "      <td>67</td>\n",
       "      <td>36</td>\n",
       "      <td>26.0</td>\n",
       "      <td>11.0</td>\n",
       "      <td>2295</td>\n",
       "      <td>non-USA</td>\n",
       "      <td>Mitsubishi Mirage</td>\n",
       "    </tr>\n",
       "    <tr>\n",
       "      <th>63</th>\n",
       "      <td>64</td>\n",
       "      <td>Nissan</td>\n",
       "      <td>Sentra</td>\n",
       "      <td>Small</td>\n",
       "      <td>8.7</td>\n",
       "      <td>11.8</td>\n",
       "      <td>14.9</td>\n",
       "      <td>29</td>\n",
       "      <td>33</td>\n",
       "      <td>Driver only</td>\n",
       "      <td>...</td>\n",
       "      <td>5</td>\n",
       "      <td>170</td>\n",
       "      <td>96</td>\n",
       "      <td>66</td>\n",
       "      <td>33</td>\n",
       "      <td>26.0</td>\n",
       "      <td>12.0</td>\n",
       "      <td>2545</td>\n",
       "      <td>non-USA</td>\n",
       "      <td>Nissan Sentra</td>\n",
       "    </tr>\n",
       "    <tr>\n",
       "      <th>72</th>\n",
       "      <td>73</td>\n",
       "      <td>Pontiac</td>\n",
       "      <td>LeMans</td>\n",
       "      <td>Small</td>\n",
       "      <td>8.2</td>\n",
       "      <td>9.0</td>\n",
       "      <td>9.9</td>\n",
       "      <td>31</td>\n",
       "      <td>41</td>\n",
       "      <td>None</td>\n",
       "      <td>...</td>\n",
       "      <td>4</td>\n",
       "      <td>177</td>\n",
       "      <td>99</td>\n",
       "      <td>66</td>\n",
       "      <td>35</td>\n",
       "      <td>25.5</td>\n",
       "      <td>17.0</td>\n",
       "      <td>2350</td>\n",
       "      <td>USA</td>\n",
       "      <td>Pontiac LeMans</td>\n",
       "    </tr>\n",
       "    <tr>\n",
       "      <th>78</th>\n",
       "      <td>79</td>\n",
       "      <td>Saturn</td>\n",
       "      <td>SL</td>\n",
       "      <td>Small</td>\n",
       "      <td>9.2</td>\n",
       "      <td>11.1</td>\n",
       "      <td>12.9</td>\n",
       "      <td>28</td>\n",
       "      <td>38</td>\n",
       "      <td>Driver only</td>\n",
       "      <td>...</td>\n",
       "      <td>5</td>\n",
       "      <td>176</td>\n",
       "      <td>102</td>\n",
       "      <td>68</td>\n",
       "      <td>40</td>\n",
       "      <td>26.5</td>\n",
       "      <td>12.0</td>\n",
       "      <td>2495</td>\n",
       "      <td>USA</td>\n",
       "      <td>Saturn SL</td>\n",
       "    </tr>\n",
       "    <tr>\n",
       "      <th>79</th>\n",
       "      <td>80</td>\n",
       "      <td>Subaru</td>\n",
       "      <td>Justy</td>\n",
       "      <td>Small</td>\n",
       "      <td>7.3</td>\n",
       "      <td>8.4</td>\n",
       "      <td>9.5</td>\n",
       "      <td>33</td>\n",
       "      <td>37</td>\n",
       "      <td>None</td>\n",
       "      <td>...</td>\n",
       "      <td>4</td>\n",
       "      <td>146</td>\n",
       "      <td>90</td>\n",
       "      <td>60</td>\n",
       "      <td>32</td>\n",
       "      <td>23.5</td>\n",
       "      <td>10.0</td>\n",
       "      <td>2045</td>\n",
       "      <td>non-USA</td>\n",
       "      <td>Subaru Justy</td>\n",
       "    </tr>\n",
       "    <tr>\n",
       "      <th>80</th>\n",
       "      <td>81</td>\n",
       "      <td>Subaru</td>\n",
       "      <td>Loyale</td>\n",
       "      <td>Small</td>\n",
       "      <td>10.5</td>\n",
       "      <td>10.9</td>\n",
       "      <td>11.3</td>\n",
       "      <td>25</td>\n",
       "      <td>30</td>\n",
       "      <td>None</td>\n",
       "      <td>...</td>\n",
       "      <td>5</td>\n",
       "      <td>175</td>\n",
       "      <td>97</td>\n",
       "      <td>65</td>\n",
       "      <td>35</td>\n",
       "      <td>27.5</td>\n",
       "      <td>15.0</td>\n",
       "      <td>2490</td>\n",
       "      <td>non-USA</td>\n",
       "      <td>Subaru Loyale</td>\n",
       "    </tr>\n",
       "    <tr>\n",
       "      <th>82</th>\n",
       "      <td>83</td>\n",
       "      <td>Suzuki</td>\n",
       "      <td>Swift</td>\n",
       "      <td>Small</td>\n",
       "      <td>7.3</td>\n",
       "      <td>8.6</td>\n",
       "      <td>10.0</td>\n",
       "      <td>39</td>\n",
       "      <td>43</td>\n",
       "      <td>None</td>\n",
       "      <td>...</td>\n",
       "      <td>4</td>\n",
       "      <td>161</td>\n",
       "      <td>93</td>\n",
       "      <td>63</td>\n",
       "      <td>34</td>\n",
       "      <td>27.5</td>\n",
       "      <td>10.0</td>\n",
       "      <td>1965</td>\n",
       "      <td>non-USA</td>\n",
       "      <td>Suzuki Swift</td>\n",
       "    </tr>\n",
       "    <tr>\n",
       "      <th>83</th>\n",
       "      <td>84</td>\n",
       "      <td>Toyota</td>\n",
       "      <td>Tercel</td>\n",
       "      <td>Small</td>\n",
       "      <td>7.8</td>\n",
       "      <td>9.8</td>\n",
       "      <td>11.8</td>\n",
       "      <td>32</td>\n",
       "      <td>37</td>\n",
       "      <td>Driver only</td>\n",
       "      <td>...</td>\n",
       "      <td>5</td>\n",
       "      <td>162</td>\n",
       "      <td>94</td>\n",
       "      <td>65</td>\n",
       "      <td>36</td>\n",
       "      <td>24.0</td>\n",
       "      <td>11.0</td>\n",
       "      <td>2055</td>\n",
       "      <td>non-USA</td>\n",
       "      <td>Toyota Tercel</td>\n",
       "    </tr>\n",
       "    <tr>\n",
       "      <th>87</th>\n",
       "      <td>88</td>\n",
       "      <td>Volkswagen</td>\n",
       "      <td>Fox</td>\n",
       "      <td>Small</td>\n",
       "      <td>8.7</td>\n",
       "      <td>9.1</td>\n",
       "      <td>9.5</td>\n",
       "      <td>25</td>\n",
       "      <td>33</td>\n",
       "      <td>None</td>\n",
       "      <td>...</td>\n",
       "      <td>4</td>\n",
       "      <td>163</td>\n",
       "      <td>93</td>\n",
       "      <td>63</td>\n",
       "      <td>34</td>\n",
       "      <td>26.0</td>\n",
       "      <td>10.0</td>\n",
       "      <td>2240</td>\n",
       "      <td>non-USA</td>\n",
       "      <td>Volkswagen Fox</td>\n",
       "    </tr>\n",
       "  </tbody>\n",
       "</table>\n",
       "<p>21 rows × 28 columns</p>\n",
       "</div>"
      ],
      "text/plain": [
       "    id Manufacturer    Model   Type  Min.Price  Price  Max.Price  MPG.city  \\\n",
       "0    1        Acura  Integra  Small       12.9   15.9       18.8        25   \n",
       "22  23        Dodge     Colt  Small        7.9    9.2       10.6        29   \n",
       "23  24        Dodge   Shadow  Small        8.4   11.3       14.2        23   \n",
       "28  29        Eagle   Summit  Small        7.9   12.2       16.5        29   \n",
       "30  31         Ford  Festiva  Small        6.9    7.4        7.9        31   \n",
       "31  32         Ford   Escort  Small        8.4   10.1       11.9        23   \n",
       "38  39          Geo    Metro  Small        6.7    8.4       10.0        46   \n",
       "41  42        Honda    Civic  Small        8.4   12.1       15.8        42   \n",
       "43  44      Hyundai    Excel  Small        6.8    8.0        9.2        29   \n",
       "44  45      Hyundai  Elantra  Small        9.0   10.0       11.0        22   \n",
       "52  53        Mazda      323  Small        7.4    8.3        9.1        29   \n",
       "53  54        Mazda  Protege  Small       10.9   11.6       12.3        28   \n",
       "61  62   Mitsubishi   Mirage  Small        7.7   10.3       12.9        29   \n",
       "63  64       Nissan   Sentra  Small        8.7   11.8       14.9        29   \n",
       "72  73      Pontiac   LeMans  Small        8.2    9.0        9.9        31   \n",
       "78  79       Saturn       SL  Small        9.2   11.1       12.9        28   \n",
       "79  80       Subaru    Justy  Small        7.3    8.4        9.5        33   \n",
       "80  81       Subaru   Loyale  Small       10.5   10.9       11.3        25   \n",
       "82  83       Suzuki    Swift  Small        7.3    8.6       10.0        39   \n",
       "83  84       Toyota   Tercel  Small        7.8    9.8       11.8        32   \n",
       "87  88   Volkswagen      Fox  Small        8.7    9.1        9.5        25   \n",
       "\n",
       "    MPG.highway      AirBags  ... Passengers Length  Wheelbase  Width  \\\n",
       "0            31         None  ...          5    177        102     68   \n",
       "22           33         None  ...          5    174         98     66   \n",
       "23           29  Driver only  ...          5    172         97     67   \n",
       "28           33         None  ...          5    174         98     66   \n",
       "30           33         None  ...          4    141         90     63   \n",
       "31           30         None  ...          5    171         98     67   \n",
       "38           50         None  ...          4    151         93     63   \n",
       "41           46  Driver only  ...          4    173        103     67   \n",
       "43           33         None  ...          5    168         94     63   \n",
       "44           29         None  ...          5    172         98     66   \n",
       "52           37         None  ...          4    164         97     66   \n",
       "53           36         None  ...          5    172         98     66   \n",
       "61           33         None  ...          5    172         98     67   \n",
       "63           33  Driver only  ...          5    170         96     66   \n",
       "72           41         None  ...          4    177         99     66   \n",
       "78           38  Driver only  ...          5    176        102     68   \n",
       "79           37         None  ...          4    146         90     60   \n",
       "80           30         None  ...          5    175         97     65   \n",
       "82           43         None  ...          4    161         93     63   \n",
       "83           37  Driver only  ...          5    162         94     65   \n",
       "87           33         None  ...          4    163         93     63   \n",
       "\n",
       "    Turn.circle  Rear.seat.room Luggage.room  Weight   Origin  \\\n",
       "0            37            26.5         11.0    2705  non-USA   \n",
       "22           32            26.5         11.0    2270      USA   \n",
       "23           38            26.5         13.0    2670      USA   \n",
       "28           36            26.5         11.0    2295      USA   \n",
       "30           33            26.0         12.0    1845      USA   \n",
       "31           36            28.0         12.0    2530      USA   \n",
       "38           34            27.5         10.0    1695  non-USA   \n",
       "41           36            28.0         12.0    2350  non-USA   \n",
       "43           35            26.0         11.0    2345  non-USA   \n",
       "44           36            28.0         12.0    2620  non-USA   \n",
       "52           34            27.0         16.0    2325  non-USA   \n",
       "53           36            26.5         13.0    2440  non-USA   \n",
       "61           36            26.0         11.0    2295  non-USA   \n",
       "63           33            26.0         12.0    2545  non-USA   \n",
       "72           35            25.5         17.0    2350      USA   \n",
       "78           40            26.5         12.0    2495      USA   \n",
       "79           32            23.5         10.0    2045  non-USA   \n",
       "80           35            27.5         15.0    2490  non-USA   \n",
       "82           34            27.5         10.0    1965  non-USA   \n",
       "83           36            24.0         11.0    2055  non-USA   \n",
       "87           34            26.0         10.0    2240  non-USA   \n",
       "\n",
       "                 Make  \n",
       "0       Acura Integra  \n",
       "22         Dodge Colt  \n",
       "23       Dodge Shadow  \n",
       "28       Eagle Summit  \n",
       "30       Ford Festiva  \n",
       "31        Ford Escort  \n",
       "38          Geo Metro  \n",
       "41        Honda Civic  \n",
       "43      Hyundai Excel  \n",
       "44    Hyundai Elantra  \n",
       "52          Mazda 323  \n",
       "53      Mazda Protege  \n",
       "61  Mitsubishi Mirage  \n",
       "63      Nissan Sentra  \n",
       "72     Pontiac LeMans  \n",
       "78          Saturn SL  \n",
       "79       Subaru Justy  \n",
       "80      Subaru Loyale  \n",
       "82       Suzuki Swift  \n",
       "83      Toyota Tercel  \n",
       "87     Volkswagen Fox  \n",
       "\n",
       "[21 rows x 28 columns]"
      ]
     },
     "execution_count": 99,
     "metadata": {},
     "output_type": "execute_result"
    }
   ],
   "source": [
    "df[df['Type']=='Small']"
   ]
  },
  {
   "cell_type": "code",
   "execution_count": 101,
   "id": "d523779d-ac64-4f75-b01e-2cac609e6a75",
   "metadata": {},
   "outputs": [
    {
     "data": {
      "text/plain": [
       "['Manufacturer',\n",
       " 'Model',\n",
       " 'Type',\n",
       " 'AirBags',\n",
       " 'DriveTrain',\n",
       " 'Cylinders',\n",
       " 'Man.trans.avail',\n",
       " 'Origin',\n",
       " 'Make']"
      ]
     },
     "execution_count": 101,
     "metadata": {},
     "output_type": "execute_result"
    }
   ],
   "source": [
    "cat = list(df.columns[df.dtypes=='object'])\n",
    "cat"
   ]
  },
  {
   "cell_type": "code",
   "execution_count": 103,
   "id": "7510e3ae-dac1-40e5-bd40-b1d58729f9c3",
   "metadata": {},
   "outputs": [
    {
     "data": {
      "text/plain": [
       "['id',\n",
       " 'Min.Price',\n",
       " 'Price',\n",
       " 'Max.Price',\n",
       " 'MPG.city',\n",
       " 'MPG.highway',\n",
       " 'EngineSize',\n",
       " 'Horsepower',\n",
       " 'RPM',\n",
       " 'Rev.per.mile',\n",
       " 'Fuel.tank.capacity',\n",
       " 'Passengers',\n",
       " 'Length',\n",
       " 'Wheelbase',\n",
       " 'Width',\n",
       " 'Turn.circle',\n",
       " 'Rear.seat.room',\n",
       " 'Luggage.room',\n",
       " 'Weight']"
      ]
     },
     "execution_count": 103,
     "metadata": {},
     "output_type": "execute_result"
    }
   ],
   "source": [
    "con = list(df.columns[df.dtypes!='object'])\n",
    "con"
   ]
  },
  {
   "cell_type": "code",
   "execution_count": 105,
   "id": "c79daeed-adc5-4f75-a0f8-a097a0cd5ebc",
   "metadata": {},
   "outputs": [
    {
     "name": "stdout",
     "output_type": "stream",
     "text": [
      "id\n",
      "Manufacturer\n",
      "Model\n",
      "Type\n",
      "Min.Price\n",
      "Price\n",
      "Max.Price\n",
      "MPG.city\n",
      "MPG.highway\n",
      "AirBags\n",
      "DriveTrain\n",
      "Cylinders\n",
      "EngineSize\n",
      "Horsepower\n",
      "RPM\n",
      "Rev.per.mile\n",
      "Man.trans.avail\n",
      "Fuel.tank.capacity\n",
      "Passengers\n",
      "Length\n",
      "Wheelbase\n",
      "Width\n",
      "Turn.circle\n",
      "Rear.seat.room\n",
      "Luggage.room\n",
      "Weight\n",
      "Origin\n",
      "Make\n"
     ]
    }
   ],
   "source": [
    "for i in df.columns:\n",
    "    print(i)"
   ]
  },
  {
   "attachments": {
    "6f344ce2-78dc-4bec-9397-f5b75c55aabe.png": {
     "image/png": "[encoded data removed]"
    }
   },
   "cell_type": "markdown",
   "id": "3bacd069-694d-49fb-9063-e2143d2892c8",
   "metadata": {},
   "source": [
    "### ![image.png](attachment:6f344ce2-78dc-4bec-9397-f5b75c55aabe.png)"
   ]
  },
  {
   "cell_type": "code",
   "execution_count": 108,
   "id": "36809059-c1ef-4c9d-b30e-6b78c2462c77",
   "metadata": {},
   "outputs": [],
   "source": [
    "def replacer(df):\n",
    "    cat = list(df.columns[df.dtypes=='object'])\n",
    "    for i in df.columns:\n",
    "        if i in cat:\n",
    "            md = df[i].mode()[0]\n",
    "            df[i] = df[i].fillna(md)\n",
    "        else:\n",
    "            mn = df[i].mean()\n",
    "            df[i] = df[i].fillna(mn)\n",
    "    print('Missing values replaced')    "
   ]
  },
  {
   "cell_type": "code",
   "execution_count": 110,
   "id": "58318236-d672-4e17-ac78-68a7592378fc",
   "metadata": {},
   "outputs": [
    {
     "data": {
      "text/plain": [
       "id                     0\n",
       "Manufacturer           0\n",
       "Model                  0\n",
       "Type                   0\n",
       "Min.Price              0\n",
       "Price                  0\n",
       "Max.Price              0\n",
       "MPG.city               0\n",
       "MPG.highway            0\n",
       "AirBags                4\n",
       "DriveTrain             0\n",
       "Cylinders              0\n",
       "EngineSize             0\n",
       "Horsepower             0\n",
       "RPM                    0\n",
       "Rev.per.mile           0\n",
       "Man.trans.avail        0\n",
       "Fuel.tank.capacity     0\n",
       "Passengers             0\n",
       "Length                 0\n",
       "Wheelbase              0\n",
       "Width                  0\n",
       "Turn.circle            0\n",
       "Rear.seat.room         0\n",
       "Luggage.room          11\n",
       "Weight                 0\n",
       "Origin                 0\n",
       "Make                   0\n",
       "dtype: int64"
      ]
     },
     "execution_count": 110,
     "metadata": {},
     "output_type": "execute_result"
    }
   ],
   "source": [
    "df.isna().sum()\n"
   ]
  },
  {
   "cell_type": "code",
   "execution_count": 112,
   "id": "b49334ea-4828-428d-90f2-d5a7bc25c137",
   "metadata": {},
   "outputs": [
    {
     "name": "stdout",
     "output_type": "stream",
     "text": [
      "Missing values replaced\n"
     ]
    }
   ],
   "source": [
    "replacer(df)\n"
   ]
  },
  {
   "cell_type": "code",
   "execution_count": 114,
   "id": "299ee693-c31b-4075-9012-ec428cea544b",
   "metadata": {},
   "outputs": [
    {
     "data": {
      "text/plain": [
       "id                    0\n",
       "Manufacturer          0\n",
       "Model                 0\n",
       "Type                  0\n",
       "Min.Price             0\n",
       "Price                 0\n",
       "Max.Price             0\n",
       "MPG.city              0\n",
       "MPG.highway           0\n",
       "AirBags               0\n",
       "DriveTrain            0\n",
       "Cylinders             0\n",
       "EngineSize            0\n",
       "Horsepower            0\n",
       "RPM                   0\n",
       "Rev.per.mile          0\n",
       "Man.trans.avail       0\n",
       "Fuel.tank.capacity    0\n",
       "Passengers            0\n",
       "Length                0\n",
       "Wheelbase             0\n",
       "Width                 0\n",
       "Turn.circle           0\n",
       "Rear.seat.room        0\n",
       "Luggage.room          0\n",
       "Weight                0\n",
       "Origin                0\n",
       "Make                  0\n",
       "dtype: int64"
      ]
     },
     "execution_count": 114,
     "metadata": {},
     "output_type": "execute_result"
    }
   ],
   "source": [
    "df.isna().sum()\n"
   ]
  },
  {
   "cell_type": "code",
   "execution_count": 116,
   "id": "6932ebd9-c4d5-4f3e-ad63-0a6e13cd3c21",
   "metadata": {},
   "outputs": [
    {
     "data": {
      "text/html": [
       "<div>\n",
       "<style scoped>\n",
       "    .dataframe tbody tr th:only-of-type {\n",
       "        vertical-align: middle;\n",
       "    }\n",
       "\n",
       "    .dataframe tbody tr th {\n",
       "        vertical-align: top;\n",
       "    }\n",
       "\n",
       "    .dataframe thead th {\n",
       "        text-align: right;\n",
       "    }\n",
       "</style>\n",
       "<table border=\"1\" class=\"dataframe\">\n",
       "  <thead>\n",
       "    <tr style=\"text-align: right;\">\n",
       "      <th></th>\n",
       "      <th>id</th>\n",
       "      <th>Manufacturer</th>\n",
       "      <th>Model</th>\n",
       "      <th>Type</th>\n",
       "      <th>Min.Price</th>\n",
       "      <th>Price</th>\n",
       "      <th>Max.Price</th>\n",
       "      <th>MPG.city</th>\n",
       "      <th>MPG.highway</th>\n",
       "      <th>AirBags</th>\n",
       "      <th>...</th>\n",
       "      <th>Passengers</th>\n",
       "      <th>Length</th>\n",
       "      <th>Wheelbase</th>\n",
       "      <th>Width</th>\n",
       "      <th>Turn.circle</th>\n",
       "      <th>Rear.seat.room</th>\n",
       "      <th>Luggage.room</th>\n",
       "      <th>Weight</th>\n",
       "      <th>Origin</th>\n",
       "      <th>Make</th>\n",
       "    </tr>\n",
       "  </thead>\n",
       "  <tbody>\n",
       "    <tr>\n",
       "      <th>0</th>\n",
       "      <td>1</td>\n",
       "      <td>Acura</td>\n",
       "      <td>Integra</td>\n",
       "      <td>Small</td>\n",
       "      <td>12.9</td>\n",
       "      <td>15.9</td>\n",
       "      <td>18.8</td>\n",
       "      <td>25</td>\n",
       "      <td>31</td>\n",
       "      <td>None</td>\n",
       "      <td>...</td>\n",
       "      <td>5</td>\n",
       "      <td>177</td>\n",
       "      <td>102</td>\n",
       "      <td>68</td>\n",
       "      <td>37</td>\n",
       "      <td>26.5</td>\n",
       "      <td>11.0</td>\n",
       "      <td>2705</td>\n",
       "      <td>non-USA</td>\n",
       "      <td>Acura Integra</td>\n",
       "    </tr>\n",
       "    <tr>\n",
       "      <th>1</th>\n",
       "      <td>2</td>\n",
       "      <td>Acura</td>\n",
       "      <td>Legend</td>\n",
       "      <td>Midsize</td>\n",
       "      <td>29.2</td>\n",
       "      <td>33.9</td>\n",
       "      <td>38.7</td>\n",
       "      <td>18</td>\n",
       "      <td>25</td>\n",
       "      <td>Driver &amp; Passenger</td>\n",
       "      <td>...</td>\n",
       "      <td>5</td>\n",
       "      <td>195</td>\n",
       "      <td>115</td>\n",
       "      <td>71</td>\n",
       "      <td>38</td>\n",
       "      <td>30.0</td>\n",
       "      <td>15.0</td>\n",
       "      <td>3560</td>\n",
       "      <td>non-USA</td>\n",
       "      <td>Acura Legend</td>\n",
       "    </tr>\n",
       "    <tr>\n",
       "      <th>2</th>\n",
       "      <td>3</td>\n",
       "      <td>Audi</td>\n",
       "      <td>90</td>\n",
       "      <td>Compact</td>\n",
       "      <td>25.9</td>\n",
       "      <td>29.1</td>\n",
       "      <td>32.3</td>\n",
       "      <td>20</td>\n",
       "      <td>26</td>\n",
       "      <td>Driver only</td>\n",
       "      <td>...</td>\n",
       "      <td>5</td>\n",
       "      <td>180</td>\n",
       "      <td>102</td>\n",
       "      <td>67</td>\n",
       "      <td>37</td>\n",
       "      <td>28.0</td>\n",
       "      <td>14.0</td>\n",
       "      <td>3375</td>\n",
       "      <td>non-USA</td>\n",
       "      <td>Audi 90</td>\n",
       "    </tr>\n",
       "    <tr>\n",
       "      <th>3</th>\n",
       "      <td>4</td>\n",
       "      <td>Audi</td>\n",
       "      <td>100</td>\n",
       "      <td>Midsize</td>\n",
       "      <td>30.8</td>\n",
       "      <td>37.7</td>\n",
       "      <td>44.6</td>\n",
       "      <td>19</td>\n",
       "      <td>26</td>\n",
       "      <td>Driver only</td>\n",
       "      <td>...</td>\n",
       "      <td>6</td>\n",
       "      <td>193</td>\n",
       "      <td>106</td>\n",
       "      <td>70</td>\n",
       "      <td>37</td>\n",
       "      <td>31.0</td>\n",
       "      <td>17.0</td>\n",
       "      <td>3405</td>\n",
       "      <td>non-USA</td>\n",
       "      <td>Audi 100</td>\n",
       "    </tr>\n",
       "    <tr>\n",
       "      <th>4</th>\n",
       "      <td>5</td>\n",
       "      <td>BMW</td>\n",
       "      <td>535i</td>\n",
       "      <td>Midsize</td>\n",
       "      <td>23.7</td>\n",
       "      <td>30.0</td>\n",
       "      <td>36.2</td>\n",
       "      <td>22</td>\n",
       "      <td>30</td>\n",
       "      <td>Driver only</td>\n",
       "      <td>...</td>\n",
       "      <td>4</td>\n",
       "      <td>186</td>\n",
       "      <td>109</td>\n",
       "      <td>69</td>\n",
       "      <td>39</td>\n",
       "      <td>27.0</td>\n",
       "      <td>13.0</td>\n",
       "      <td>3640</td>\n",
       "      <td>non-USA</td>\n",
       "      <td>BMW 535i</td>\n",
       "    </tr>\n",
       "  </tbody>\n",
       "</table>\n",
       "<p>5 rows × 28 columns</p>\n",
       "</div>"
      ],
      "text/plain": [
       "   id Manufacturer    Model     Type  Min.Price  Price  Max.Price  MPG.city  \\\n",
       "0   1        Acura  Integra    Small       12.9   15.9       18.8        25   \n",
       "1   2        Acura   Legend  Midsize       29.2   33.9       38.7        18   \n",
       "2   3         Audi       90  Compact       25.9   29.1       32.3        20   \n",
       "3   4         Audi      100  Midsize       30.8   37.7       44.6        19   \n",
       "4   5          BMW     535i  Midsize       23.7   30.0       36.2        22   \n",
       "\n",
       "   MPG.highway             AirBags  ... Passengers Length  Wheelbase  Width  \\\n",
       "0           31                None  ...          5    177        102     68   \n",
       "1           25  Driver & Passenger  ...          5    195        115     71   \n",
       "2           26         Driver only  ...          5    180        102     67   \n",
       "3           26         Driver only  ...          6    193        106     70   \n",
       "4           30         Driver only  ...          4    186        109     69   \n",
       "\n",
       "   Turn.circle  Rear.seat.room Luggage.room  Weight   Origin           Make  \n",
       "0           37            26.5         11.0    2705  non-USA  Acura Integra  \n",
       "1           38            30.0         15.0    3560  non-USA   Acura Legend  \n",
       "2           37            28.0         14.0    3375  non-USA        Audi 90  \n",
       "3           37            31.0         17.0    3405  non-USA       Audi 100  \n",
       "4           39            27.0         13.0    3640  non-USA       BMW 535i  \n",
       "\n",
       "[5 rows x 28 columns]"
      ]
     },
     "execution_count": 116,
     "metadata": {},
     "output_type": "execute_result"
    }
   ],
   "source": [
    "df.head()\n"
   ]
  },
  {
   "cell_type": "markdown",
   "id": "b26ce460-67bb-41bc-8cc1-a5b6a4de8582",
   "metadata": {},
   "source": [
    "### Save above to csv\r\n"
   ]
  },
  {
   "cell_type": "code",
   "execution_count": 119,
   "id": "a925f746-a97e-45e8-92cc-ff47326ea67b",
   "metadata": {},
   "outputs": [],
   "source": [
    "import os\n",
    "os.chdir(r\"D:\\ETL Hive\\Python ETL\\28th Jul 24 Python\")"
   ]
  },
  {
   "cell_type": "code",
   "execution_count": 121,
   "id": "c5e74248-f413-4c40-9fe2-d9bf6c142aa5",
   "metadata": {},
   "outputs": [],
   "source": [
    "df.to_csv(\"Cars93Clean.csv\", index=False)"
   ]
  },
  {
   "cell_type": "markdown",
   "id": "ba791049-bc0f-44d0-b0ca-e2d225f6024a",
   "metadata": {},
   "source": [
    "### Apply function in Detail\r\n"
   ]
  },
  {
   "cell_type": "code",
   "execution_count": 124,
   "id": "0ac50675-c5a6-41db-9ee5-1904cb5edff8",
   "metadata": {},
   "outputs": [
    {
     "data": {
      "text/html": [
       "<div>\n",
       "<style scoped>\n",
       "    .dataframe tbody tr th:only-of-type {\n",
       "        vertical-align: middle;\n",
       "    }\n",
       "\n",
       "    .dataframe tbody tr th {\n",
       "        vertical-align: top;\n",
       "    }\n",
       "\n",
       "    .dataframe thead th {\n",
       "        text-align: right;\n",
       "    }\n",
       "</style>\n",
       "<table border=\"1\" class=\"dataframe\">\n",
       "  <thead>\n",
       "    <tr style=\"text-align: right;\">\n",
       "      <th></th>\n",
       "      <th>Manufacturer</th>\n",
       "      <th>Model</th>\n",
       "      <th>Price</th>\n",
       "      <th>MPG.highway</th>\n",
       "      <th>MPG.city</th>\n",
       "    </tr>\n",
       "  </thead>\n",
       "  <tbody>\n",
       "    <tr>\n",
       "      <th>0</th>\n",
       "      <td>Acura</td>\n",
       "      <td>Integra</td>\n",
       "      <td>15.9</td>\n",
       "      <td>31</td>\n",
       "      <td>25</td>\n",
       "    </tr>\n",
       "    <tr>\n",
       "      <th>1</th>\n",
       "      <td>Acura</td>\n",
       "      <td>Legend</td>\n",
       "      <td>33.9</td>\n",
       "      <td>25</td>\n",
       "      <td>18</td>\n",
       "    </tr>\n",
       "    <tr>\n",
       "      <th>2</th>\n",
       "      <td>Audi</td>\n",
       "      <td>90</td>\n",
       "      <td>29.1</td>\n",
       "      <td>26</td>\n",
       "      <td>20</td>\n",
       "    </tr>\n",
       "    <tr>\n",
       "      <th>3</th>\n",
       "      <td>Audi</td>\n",
       "      <td>100</td>\n",
       "      <td>37.7</td>\n",
       "      <td>26</td>\n",
       "      <td>19</td>\n",
       "    </tr>\n",
       "    <tr>\n",
       "      <th>4</th>\n",
       "      <td>BMW</td>\n",
       "      <td>535i</td>\n",
       "      <td>30.0</td>\n",
       "      <td>30</td>\n",
       "      <td>22</td>\n",
       "    </tr>\n",
       "  </tbody>\n",
       "</table>\n",
       "</div>"
      ],
      "text/plain": [
       "  Manufacturer    Model  Price  MPG.highway  MPG.city\n",
       "0        Acura  Integra   15.9           31        25\n",
       "1        Acura   Legend   33.9           25        18\n",
       "2         Audi       90   29.1           26        20\n",
       "3         Audi      100   37.7           26        19\n",
       "4          BMW     535i   30.0           30        22"
      ]
     },
     "execution_count": 124,
     "metadata": {},
     "output_type": "execute_result"
    }
   ],
   "source": [
    "B = df.loc[:, [\"Manufacturer\", \"Model\", \"Price\", \"MPG.highway\", \"MPG.city\"]]\n",
    "B.head()"
   ]
  },
  {
   "attachments": {
    "a0739529-6e4e-4f5e-8273-c766bff20e81.png": {
     "image/png": "[encoded data removed]"
    }
   },
   "cell_type": "markdown",
   "id": "fc02862a-09c0-43a2-b36c-20dab07a9231",
   "metadata": {},
   "source": [
    "### ![image.png](attachment:a0739529-6e4e-4f5e-8273-c766bff20e81.png)"
   ]
  },
  {
   "cell_type": "code",
   "execution_count": 127,
   "id": "49504bfc-4387-4739-b74f-f9f5e81bc168",
   "metadata": {},
   "outputs": [],
   "source": [
    "def get_average(row):\n",
    "    avg = (row['MPG.city'] + row['MPG.highway'])/2\n",
    "    return avg"
   ]
  },
  {
   "cell_type": "code",
   "execution_count": 129,
   "id": "f43202e3-2db3-4a03-a116-923ed40411a6",
   "metadata": {},
   "outputs": [],
   "source": [
    "B[\"MPG.avg\"] = B.apply(get_average, axis=1)\n"
   ]
  },
  {
   "cell_type": "code",
   "execution_count": 131,
   "id": "244a93f7-09b8-4799-84d7-0203cbaedfa8",
   "metadata": {},
   "outputs": [
    {
     "data": {
      "text/html": [
       "<div>\n",
       "<style scoped>\n",
       "    .dataframe tbody tr th:only-of-type {\n",
       "        vertical-align: middle;\n",
       "    }\n",
       "\n",
       "    .dataframe tbody tr th {\n",
       "        vertical-align: top;\n",
       "    }\n",
       "\n",
       "    .dataframe thead th {\n",
       "        text-align: right;\n",
       "    }\n",
       "</style>\n",
       "<table border=\"1\" class=\"dataframe\">\n",
       "  <thead>\n",
       "    <tr style=\"text-align: right;\">\n",
       "      <th></th>\n",
       "      <th>Manufacturer</th>\n",
       "      <th>Model</th>\n",
       "      <th>Price</th>\n",
       "      <th>MPG.highway</th>\n",
       "      <th>MPG.city</th>\n",
       "      <th>MPG.avg</th>\n",
       "    </tr>\n",
       "  </thead>\n",
       "  <tbody>\n",
       "    <tr>\n",
       "      <th>0</th>\n",
       "      <td>Acura</td>\n",
       "      <td>Integra</td>\n",
       "      <td>15.9</td>\n",
       "      <td>31</td>\n",
       "      <td>25</td>\n",
       "      <td>28.0</td>\n",
       "    </tr>\n",
       "    <tr>\n",
       "      <th>1</th>\n",
       "      <td>Acura</td>\n",
       "      <td>Legend</td>\n",
       "      <td>33.9</td>\n",
       "      <td>25</td>\n",
       "      <td>18</td>\n",
       "      <td>21.5</td>\n",
       "    </tr>\n",
       "    <tr>\n",
       "      <th>2</th>\n",
       "      <td>Audi</td>\n",
       "      <td>90</td>\n",
       "      <td>29.1</td>\n",
       "      <td>26</td>\n",
       "      <td>20</td>\n",
       "      <td>23.0</td>\n",
       "    </tr>\n",
       "    <tr>\n",
       "      <th>3</th>\n",
       "      <td>Audi</td>\n",
       "      <td>100</td>\n",
       "      <td>37.7</td>\n",
       "      <td>26</td>\n",
       "      <td>19</td>\n",
       "      <td>22.5</td>\n",
       "    </tr>\n",
       "    <tr>\n",
       "      <th>4</th>\n",
       "      <td>BMW</td>\n",
       "      <td>535i</td>\n",
       "      <td>30.0</td>\n",
       "      <td>30</td>\n",
       "      <td>22</td>\n",
       "      <td>26.0</td>\n",
       "    </tr>\n",
       "    <tr>\n",
       "      <th>...</th>\n",
       "      <td>...</td>\n",
       "      <td>...</td>\n",
       "      <td>...</td>\n",
       "      <td>...</td>\n",
       "      <td>...</td>\n",
       "      <td>...</td>\n",
       "    </tr>\n",
       "    <tr>\n",
       "      <th>88</th>\n",
       "      <td>Volkswagen</td>\n",
       "      <td>Eurovan</td>\n",
       "      <td>19.7</td>\n",
       "      <td>21</td>\n",
       "      <td>17</td>\n",
       "      <td>19.0</td>\n",
       "    </tr>\n",
       "    <tr>\n",
       "      <th>89</th>\n",
       "      <td>Volkswagen</td>\n",
       "      <td>Passat</td>\n",
       "      <td>20.0</td>\n",
       "      <td>30</td>\n",
       "      <td>21</td>\n",
       "      <td>25.5</td>\n",
       "    </tr>\n",
       "    <tr>\n",
       "      <th>90</th>\n",
       "      <td>Volkswagen</td>\n",
       "      <td>Corrado</td>\n",
       "      <td>23.3</td>\n",
       "      <td>25</td>\n",
       "      <td>18</td>\n",
       "      <td>21.5</td>\n",
       "    </tr>\n",
       "    <tr>\n",
       "      <th>91</th>\n",
       "      <td>Volvo</td>\n",
       "      <td>240</td>\n",
       "      <td>22.7</td>\n",
       "      <td>28</td>\n",
       "      <td>21</td>\n",
       "      <td>24.5</td>\n",
       "    </tr>\n",
       "    <tr>\n",
       "      <th>92</th>\n",
       "      <td>Volvo</td>\n",
       "      <td>850</td>\n",
       "      <td>26.7</td>\n",
       "      <td>28</td>\n",
       "      <td>20</td>\n",
       "      <td>24.0</td>\n",
       "    </tr>\n",
       "  </tbody>\n",
       "</table>\n",
       "<p>93 rows × 6 columns</p>\n",
       "</div>"
      ],
      "text/plain": [
       "   Manufacturer    Model  Price  MPG.highway  MPG.city  MPG.avg\n",
       "0         Acura  Integra   15.9           31        25     28.0\n",
       "1         Acura   Legend   33.9           25        18     21.5\n",
       "2          Audi       90   29.1           26        20     23.0\n",
       "3          Audi      100   37.7           26        19     22.5\n",
       "4           BMW     535i   30.0           30        22     26.0\n",
       "..          ...      ...    ...          ...       ...      ...\n",
       "88   Volkswagen  Eurovan   19.7           21        17     19.0\n",
       "89   Volkswagen   Passat   20.0           30        21     25.5\n",
       "90   Volkswagen  Corrado   23.3           25        18     21.5\n",
       "91        Volvo      240   22.7           28        21     24.5\n",
       "92        Volvo      850   26.7           28        20     24.0\n",
       "\n",
       "[93 rows x 6 columns]"
      ]
     },
     "execution_count": 131,
     "metadata": {},
     "output_type": "execute_result"
    }
   ],
   "source": [
    "B"
   ]
  },
  {
   "cell_type": "markdown",
   "id": "78770c80-10d1-4282-93a0-888ccbe2bea1",
   "metadata": {},
   "source": [
    "### Cateogize cars based on condition\r\n",
    "Price < 17 --> Cheap\r\n",
    "\r\n",
    "17 - 22 -- Moderate|\r\n",
    "\r\n",
    "22+ --> Expensie"
   ]
  },
  {
   "cell_type": "code",
   "execution_count": 134,
   "id": "a7a26944-b183-47af-a336-7be592eaf198",
   "metadata": {},
   "outputs": [],
   "source": [
    "def price_category(price):\n",
    "    if price<17:\n",
    "        c = \"Cheap\"\n",
    "    elif price>=17 and price<22:\n",
    "        c = \"Moderate\"\n",
    "    else:\n",
    "        c = \"Expensive\"\n",
    "    return c"
   ]
  },
  {
   "cell_type": "code",
   "execution_count": 136,
   "id": "2cdd67d6-5cfb-4542-92de-d1bca354ad7b",
   "metadata": {},
   "outputs": [
    {
     "data": {
      "text/plain": [
       "'Moderate'"
      ]
     },
     "execution_count": 136,
     "metadata": {},
     "output_type": "execute_result"
    }
   ],
   "source": [
    "price_category(20)\n"
   ]
  },
  {
   "cell_type": "code",
   "execution_count": 138,
   "id": "5a0e6104-15f6-414a-a38a-ebcacf5c7eaa",
   "metadata": {},
   "outputs": [
    {
     "data": {
      "text/plain": [
       "'Cheap'"
      ]
     },
     "execution_count": 138,
     "metadata": {},
     "output_type": "execute_result"
    }
   ],
   "source": [
    "price_category(7)\n"
   ]
  },
  {
   "cell_type": "code",
   "execution_count": 140,
   "id": "174e6983-1ccb-4b04-9ef0-5f6c4ba12154",
   "metadata": {},
   "outputs": [
    {
     "data": {
      "text/plain": [
       "'Expensive'"
      ]
     },
     "execution_count": 140,
     "metadata": {},
     "output_type": "execute_result"
    }
   ],
   "source": [
    "price_category(30)\n"
   ]
  },
  {
   "cell_type": "code",
   "execution_count": 142,
   "id": "d09381d1-92ba-4510-b0f1-294cab266ceb",
   "metadata": {},
   "outputs": [],
   "source": [
    "B['Price_category'] = B['Price'].apply(price_category)\n"
   ]
  },
  {
   "cell_type": "code",
   "execution_count": 144,
   "id": "f456f172-81fd-41b8-ba1d-086ee12936cd",
   "metadata": {},
   "outputs": [
    {
     "data": {
      "text/html": [
       "<div>\n",
       "<style scoped>\n",
       "    .dataframe tbody tr th:only-of-type {\n",
       "        vertical-align: middle;\n",
       "    }\n",
       "\n",
       "    .dataframe tbody tr th {\n",
       "        vertical-align: top;\n",
       "    }\n",
       "\n",
       "    .dataframe thead th {\n",
       "        text-align: right;\n",
       "    }\n",
       "</style>\n",
       "<table border=\"1\" class=\"dataframe\">\n",
       "  <thead>\n",
       "    <tr style=\"text-align: right;\">\n",
       "      <th></th>\n",
       "      <th>Manufacturer</th>\n",
       "      <th>Model</th>\n",
       "      <th>Price</th>\n",
       "      <th>MPG.highway</th>\n",
       "      <th>MPG.city</th>\n",
       "      <th>MPG.avg</th>\n",
       "      <th>Price_category</th>\n",
       "    </tr>\n",
       "  </thead>\n",
       "  <tbody>\n",
       "    <tr>\n",
       "      <th>0</th>\n",
       "      <td>Acura</td>\n",
       "      <td>Integra</td>\n",
       "      <td>15.9</td>\n",
       "      <td>31</td>\n",
       "      <td>25</td>\n",
       "      <td>28.0</td>\n",
       "      <td>Cheap</td>\n",
       "    </tr>\n",
       "    <tr>\n",
       "      <th>1</th>\n",
       "      <td>Acura</td>\n",
       "      <td>Legend</td>\n",
       "      <td>33.9</td>\n",
       "      <td>25</td>\n",
       "      <td>18</td>\n",
       "      <td>21.5</td>\n",
       "      <td>Expensive</td>\n",
       "    </tr>\n",
       "    <tr>\n",
       "      <th>2</th>\n",
       "      <td>Audi</td>\n",
       "      <td>90</td>\n",
       "      <td>29.1</td>\n",
       "      <td>26</td>\n",
       "      <td>20</td>\n",
       "      <td>23.0</td>\n",
       "      <td>Expensive</td>\n",
       "    </tr>\n",
       "    <tr>\n",
       "      <th>3</th>\n",
       "      <td>Audi</td>\n",
       "      <td>100</td>\n",
       "      <td>37.7</td>\n",
       "      <td>26</td>\n",
       "      <td>19</td>\n",
       "      <td>22.5</td>\n",
       "      <td>Expensive</td>\n",
       "    </tr>\n",
       "    <tr>\n",
       "      <th>4</th>\n",
       "      <td>BMW</td>\n",
       "      <td>535i</td>\n",
       "      <td>30.0</td>\n",
       "      <td>30</td>\n",
       "      <td>22</td>\n",
       "      <td>26.0</td>\n",
       "      <td>Expensive</td>\n",
       "    </tr>\n",
       "    <tr>\n",
       "      <th>...</th>\n",
       "      <td>...</td>\n",
       "      <td>...</td>\n",
       "      <td>...</td>\n",
       "      <td>...</td>\n",
       "      <td>...</td>\n",
       "      <td>...</td>\n",
       "      <td>...</td>\n",
       "    </tr>\n",
       "    <tr>\n",
       "      <th>88</th>\n",
       "      <td>Volkswagen</td>\n",
       "      <td>Eurovan</td>\n",
       "      <td>19.7</td>\n",
       "      <td>21</td>\n",
       "      <td>17</td>\n",
       "      <td>19.0</td>\n",
       "      <td>Moderate</td>\n",
       "    </tr>\n",
       "    <tr>\n",
       "      <th>89</th>\n",
       "      <td>Volkswagen</td>\n",
       "      <td>Passat</td>\n",
       "      <td>20.0</td>\n",
       "      <td>30</td>\n",
       "      <td>21</td>\n",
       "      <td>25.5</td>\n",
       "      <td>Moderate</td>\n",
       "    </tr>\n",
       "    <tr>\n",
       "      <th>90</th>\n",
       "      <td>Volkswagen</td>\n",
       "      <td>Corrado</td>\n",
       "      <td>23.3</td>\n",
       "      <td>25</td>\n",
       "      <td>18</td>\n",
       "      <td>21.5</td>\n",
       "      <td>Expensive</td>\n",
       "    </tr>\n",
       "    <tr>\n",
       "      <th>91</th>\n",
       "      <td>Volvo</td>\n",
       "      <td>240</td>\n",
       "      <td>22.7</td>\n",
       "      <td>28</td>\n",
       "      <td>21</td>\n",
       "      <td>24.5</td>\n",
       "      <td>Expensive</td>\n",
       "    </tr>\n",
       "    <tr>\n",
       "      <th>92</th>\n",
       "      <td>Volvo</td>\n",
       "      <td>850</td>\n",
       "      <td>26.7</td>\n",
       "      <td>28</td>\n",
       "      <td>20</td>\n",
       "      <td>24.0</td>\n",
       "      <td>Expensive</td>\n",
       "    </tr>\n",
       "  </tbody>\n",
       "</table>\n",
       "<p>93 rows × 7 columns</p>\n",
       "</div>"
      ],
      "text/plain": [
       "   Manufacturer    Model  Price  MPG.highway  MPG.city  MPG.avg Price_category\n",
       "0         Acura  Integra   15.9           31        25     28.0          Cheap\n",
       "1         Acura   Legend   33.9           25        18     21.5      Expensive\n",
       "2          Audi       90   29.1           26        20     23.0      Expensive\n",
       "3          Audi      100   37.7           26        19     22.5      Expensive\n",
       "4           BMW     535i   30.0           30        22     26.0      Expensive\n",
       "..          ...      ...    ...          ...       ...      ...            ...\n",
       "88   Volkswagen  Eurovan   19.7           21        17     19.0       Moderate\n",
       "89   Volkswagen   Passat   20.0           30        21     25.5       Moderate\n",
       "90   Volkswagen  Corrado   23.3           25        18     21.5      Expensive\n",
       "91        Volvo      240   22.7           28        21     24.5      Expensive\n",
       "92        Volvo      850   26.7           28        20     24.0      Expensive\n",
       "\n",
       "[93 rows x 7 columns]"
      ]
     },
     "execution_count": 144,
     "metadata": {},
     "output_type": "execute_result"
    }
   ],
   "source": [
    "B"
   ]
  },
  {
   "cell_type": "code",
   "execution_count": 146,
   "id": "fbf0cab4-1f3d-4c7f-950e-994428435fce",
   "metadata": {},
   "outputs": [
    {
     "data": {
      "text/plain": [
       "Price_category\n",
       "Cheap        45\n",
       "Expensive    26\n",
       "Moderate     22\n",
       "Name: count, dtype: int64"
      ]
     },
     "execution_count": 146,
     "metadata": {},
     "output_type": "execute_result"
    }
   ],
   "source": [
    "B['Price_category'].value_counts()\n"
   ]
  },
  {
   "cell_type": "code",
   "execution_count": 148,
   "id": "718db7de-bea1-440d-b4bb-9afd35e48555",
   "metadata": {},
   "outputs": [
    {
     "data": {
      "text/html": [
       "<div>\n",
       "<style scoped>\n",
       "    .dataframe tbody tr th:only-of-type {\n",
       "        vertical-align: middle;\n",
       "    }\n",
       "\n",
       "    .dataframe tbody tr th {\n",
       "        vertical-align: top;\n",
       "    }\n",
       "\n",
       "    .dataframe thead th {\n",
       "        text-align: right;\n",
       "    }\n",
       "</style>\n",
       "<table border=\"1\" class=\"dataframe\">\n",
       "  <thead>\n",
       "    <tr style=\"text-align: right;\">\n",
       "      <th></th>\n",
       "      <th>MPG.avg</th>\n",
       "    </tr>\n",
       "    <tr>\n",
       "      <th>Price_category</th>\n",
       "      <th></th>\n",
       "    </tr>\n",
       "  </thead>\n",
       "  <tbody>\n",
       "    <tr>\n",
       "      <th>Cheap</th>\n",
       "      <td>29.077778</td>\n",
       "    </tr>\n",
       "    <tr>\n",
       "      <th>Expensive</th>\n",
       "      <td>22.000000</td>\n",
       "    </tr>\n",
       "    <tr>\n",
       "      <th>Moderate</th>\n",
       "      <td>23.272727</td>\n",
       "    </tr>\n",
       "  </tbody>\n",
       "</table>\n",
       "</div>"
      ],
      "text/plain": [
       "                  MPG.avg\n",
       "Price_category           \n",
       "Cheap           29.077778\n",
       "Expensive       22.000000\n",
       "Moderate        23.272727"
      ]
     },
     "execution_count": 148,
     "metadata": {},
     "output_type": "execute_result"
    }
   ],
   "source": [
    "B.groupby(by='Price_category').agg({\"MPG.avg\":\"mean\"})\n"
   ]
  },
  {
   "cell_type": "code",
   "execution_count": 150,
   "id": "d8ad06f3-ff18-438b-be52-237126a9b3a2",
   "metadata": {},
   "outputs": [
    {
     "data": {
      "text/plain": [
       "<Axes: xlabel='Price_category'>"
      ]
     },
     "execution_count": 150,
     "metadata": {},
     "output_type": "execute_result"
    },
    {
     "data": {
      "image/png": "[encoded data removed]",
      "text/plain": [
       "<Figure size 640x480 with 1 Axes>"
      ]
     },
     "metadata": {},
     "output_type": "display_data"
    }
   ],
   "source": [
    "B.groupby(by='Price_category').agg({\"MPG.avg\":\"mean\"}).plot(kind='bar')\n"
   ]
  },
  {
   "cell_type": "code",
   "execution_count": 152,
   "id": "d07ddceb-1793-4ce8-ac34-c6c734388b6c",
   "metadata": {},
   "outputs": [],
   "source": [
    "B.to_csv(\"CarsApply.csv\", index=False)\n"
   ]
  },
  {
   "cell_type": "code",
   "execution_count": null,
   "id": "3d444db9-5566-4ae6-b56b-cf0bb2154632",
   "metadata": {},
   "outputs": [],
   "source": []
  }
 ],
 "metadata": {
  "kernelspec": {
   "display_name": "Python 3 (ipykernel)",
   "language": "python",
   "name": "python3"
  },
  "language_info": {
   "codemirror_mode": {
    "name": "ipython",
    "version": 3
   },
   "file_extension": ".py",
   "mimetype": "text/x-python",
   "name": "python",
   "nbconvert_exporter": "python",
   "pygments_lexer": "ipython3",
   "version": "3.11.7"
  }
 },
 "nbformat": 4,
 "nbformat_minor": 5
}
